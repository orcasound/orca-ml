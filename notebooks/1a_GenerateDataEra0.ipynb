{
  "cells": [
    {
      "cell_type": "markdown",
      "metadata": {
        "heading_collapsed": true
      },
      "source": [
        "# Generate Data: Era 0\n",
        "\n",
        "## Credit\n",
        "Dataset was originally generated (i.e. spliced and pre-processed) by this notebook https://github.com/orcasound/aifororcas-livesystem/blob/4eaf038404b56ef087a6efaaf670b83206f30ec1/ModelTraining/1_DataCreation.ipynb.\n",
        "\n",
        "## Table of Contents\n",
        "1. Summary\n",
        "2. Pre-Requisite Knowledge\n",
        "3. Setup [Installing Dependencies, Importing Libraries, and Notebook Parameters]\n",
        "4. Retrieve and Organize Dataset\n",
        "\n",
        "## Summary:\n",
        "We utilized the PodCast tool to generate a dataset of annotated .wav clips of both SRKW calls (positive) and noise (negative) with which to train a SRKW call detection model. This notebook downloads a dataset of pre-generated, spliced clips from PodCast annotated data (from AWS S3 storage bucket) and arranges them into orca-ml/data/[train|val|test]/ for our training and evaluation.\n",
        "\n",
        "## Pre-Requisite Knowledge:\n",
        "* We have two sources of annotated data for SRKW call detection learning. (1) The PodCast-labeled data processed with this notebook. (2) The OrcaHello-labeled data process with 1b_GenerateDataEra1.\n",
        "* We refer to PodCast-labeled data as Era0 dataset; no one has generated new data with this tool since ~2019. \n",
        "* We refer to OrcaHello-labeled data from 2020-2024 as Era1 dataset; everything here is either true- or false-positive detected by our original production SRKW call detection model and manually-labeled by our team of moderators."
      ]
    },
    {
      "cell_type": "markdown",
      "metadata": {
        "nteract": {
          "transient": {
            "deleting": false
          }
        }
      },
      "source": [
        "## Installing Dependencies"
      ]
    },
    {
      "cell_type": "code",
      "execution_count": 6,
      "metadata": {
        "gather": {
          "logged": 1726525806478
        },
        "jupyter": {
          "outputs_hidden": false,
          "source_hidden": false
        },
        "nteract": {
          "transient": {
            "deleting": false
          }
        }
      },
      "outputs": [
        {
          "name": "stdout",
          "output_type": "stream",
          "text": [
            "Collecting git+https://github.com/kevinbird15/fastaudio.git@fastaudio_refresh (from -r ../requirements.txt (line 15))\n",
            "  Cloning https://github.com/kevinbird15/fastaudio.git (to revision fastaudio_refresh) to /tmp/pip-req-build-7x4o8iea\n",
            "  Running command git clone --filter=blob:none --quiet https://github.com/kevinbird15/fastaudio.git /tmp/pip-req-build-7x4o8iea\n",
            "  Running command git checkout -b fastaudio_refresh --track origin/fastaudio_refresh\n",
            "  Switched to a new branch 'fastaudio_refresh'\n",
            "  branch 'fastaudio_refresh' set up to track 'origin/fastaudio_refresh'.\n",
            "  Resolved https://github.com/kevinbird15/fastaudio.git to commit 045a276d227387c630b6aa1a3eba6fae1f6646c4\n",
            "  Preparing metadata (setup.py) ... \u001b[?25ldone\n",
            "\u001b[?25hCollecting azure-storage-blob (from -r ../requirements.txt (line 1))\n",
            "  Downloading azure_storage_blob-12.24.1-py3-none-any.whl.metadata (26 kB)\n",
            "Collecting azure-identity (from -r ../requirements.txt (line 2))\n",
            "  Downloading azure_identity-1.19.0-py3-none-any.whl.metadata (80 kB)\n",
            "Requirement already satisfied: torch in /anaconda/envs/orca/lib/python3.10/site-packages (from -r ../requirements.txt (line 3)) (2.5.1)\n",
            "Requirement already satisfied: torchaudio in /anaconda/envs/orca/lib/python3.10/site-packages (from -r ../requirements.txt (line 4)) (2.5.1)\n",
            "Requirement already satisfied: fastai in /anaconda/envs/orca/lib/python3.10/site-packages (from -r ../requirements.txt (line 5)) (2.7.18)\n",
            "Requirement already satisfied: librosa in /anaconda/envs/orca/lib/python3.10/site-packages (from -r ../requirements.txt (line 6)) (0.10.2.post1)\n",
            "Requirement already satisfied: pydub in /anaconda/envs/orca/lib/python3.10/site-packages (from -r ../requirements.txt (line 7)) (0.25.1)\n",
            "Requirement already satisfied: pandas in /anaconda/envs/orca/lib/python3.10/site-packages (from -r ../requirements.txt (line 8)) (2.2.3)\n",
            "Requirement already satisfied: numpy in /anaconda/envs/orca/lib/python3.10/site-packages (from -r ../requirements.txt (line 9)) (1.26.4)\n",
            "Requirement already satisfied: matplotlib in /anaconda/envs/orca/lib/python3.10/site-packages (from -r ../requirements.txt (line 10)) (3.7.5)\n",
            "Requirement already satisfied: ipython in /anaconda/envs/orca/lib/python3.10/site-packages (from -r ../requirements.txt (line 11)) (8.29.0)\n",
            "Requirement already satisfied: ipykernel in /anaconda/envs/orca/lib/python3.10/site-packages (from -r ../requirements.txt (line 12)) (6.29.5)\n",
            "Requirement already satisfied: seaborn in /anaconda/envs/orca/lib/python3.10/site-packages (from -r ../requirements.txt (line 13)) (0.13.2)\n",
            "Requirement already satisfied: spacy in /anaconda/envs/orca/lib/python3.10/site-packages (from -r ../requirements.txt (line 14)) (3.8.2)\n",
            "Collecting azure-core>=1.30.0 (from azure-storage-blob->-r ../requirements.txt (line 1))\n",
            "  Downloading azure_core-1.32.0-py3-none-any.whl.metadata (39 kB)\n",
            "Collecting cryptography>=2.1.4 (from azure-storage-blob->-r ../requirements.txt (line 1))\n",
            "  Downloading cryptography-44.0.0-cp39-abi3-manylinux_2_28_x86_64.whl.metadata (5.7 kB)\n",
            "Requirement already satisfied: typing-extensions>=4.6.0 in /anaconda/envs/orca/lib/python3.10/site-packages (from azure-storage-blob->-r ../requirements.txt (line 1)) (4.11.0)\n",
            "Collecting isodate>=0.6.1 (from azure-storage-blob->-r ../requirements.txt (line 1))\n",
            "  Downloading isodate-0.7.2-py3-none-any.whl.metadata (11 kB)\n",
            "Collecting msal>=1.30.0 (from azure-identity->-r ../requirements.txt (line 2))\n",
            "  Downloading msal-1.31.1-py3-none-any.whl.metadata (11 kB)\n",
            "Collecting msal-extensions>=1.2.0 (from azure-identity->-r ../requirements.txt (line 2))\n",
            "  Downloading msal_extensions-1.2.0-py3-none-any.whl.metadata (7.6 kB)\n",
            "Requirement already satisfied: filelock in /anaconda/envs/orca/lib/python3.10/site-packages (from torch->-r ../requirements.txt (line 3)) (3.13.1)\n",
            "Requirement already satisfied: networkx in /anaconda/envs/orca/lib/python3.10/site-packages (from torch->-r ../requirements.txt (line 3)) (3.2.1)\n",
            "Requirement already satisfied: jinja2 in /anaconda/envs/orca/lib/python3.10/site-packages (from torch->-r ../requirements.txt (line 3)) (3.1.4)\n",
            "Requirement already satisfied: fsspec in /anaconda/envs/orca/lib/python3.10/site-packages (from torch->-r ../requirements.txt (line 3)) (2024.9.0)\n",
            "Requirement already satisfied: sympy==1.13.1 in /anaconda/envs/orca/lib/python3.10/site-packages (from torch->-r ../requirements.txt (line 3)) (1.13.1)\n",
            "Requirement already satisfied: mpmath<1.4,>=1.1.0 in /anaconda/envs/orca/lib/python3.10/site-packages (from sympy==1.13.1->torch->-r ../requirements.txt (line 3)) (1.3.0)\n",
            "Requirement already satisfied: pip in /anaconda/envs/orca/lib/python3.10/site-packages (from fastai->-r ../requirements.txt (line 5)) (24.2)\n",
            "Requirement already satisfied: packaging in /anaconda/envs/orca/lib/python3.10/site-packages (from fastai->-r ../requirements.txt (line 5)) (24.2)\n",
            "Requirement already satisfied: fastdownload<2,>=0.0.5 in /anaconda/envs/orca/lib/python3.10/site-packages (from fastai->-r ../requirements.txt (line 5)) (0.0.7)\n",
            "Requirement already satisfied: fastcore<1.8,>=1.5.29 in /anaconda/envs/orca/lib/python3.10/site-packages (from fastai->-r ../requirements.txt (line 5)) (1.7.19)\n",
            "Requirement already satisfied: torchvision>=0.11 in /anaconda/envs/orca/lib/python3.10/site-packages (from fastai->-r ../requirements.txt (line 5)) (0.20.1)\n",
            "Requirement already satisfied: requests in /anaconda/envs/orca/lib/python3.10/site-packages (from fastai->-r ../requirements.txt (line 5)) (2.32.3)\n",
            "Requirement already satisfied: pyyaml in /anaconda/envs/orca/lib/python3.10/site-packages (from fastai->-r ../requirements.txt (line 5)) (6.0.2)\n",
            "Requirement already satisfied: fastprogress>=0.2.4 in /anaconda/envs/orca/lib/python3.10/site-packages (from fastai->-r ../requirements.txt (line 5)) (1.0.3)\n",
            "Requirement already satisfied: pillow>=9.0.0 in /anaconda/envs/orca/lib/python3.10/site-packages (from fastai->-r ../requirements.txt (line 5)) (10.4.0)\n",
            "Requirement already satisfied: scikit-learn in /anaconda/envs/orca/lib/python3.10/site-packages (from fastai->-r ../requirements.txt (line 5)) (1.5.2)\n",
            "Requirement already satisfied: scipy in /anaconda/envs/orca/lib/python3.10/site-packages (from fastai->-r ../requirements.txt (line 5)) (1.14.1)\n",
            "Requirement already satisfied: audioread>=2.1.9 in /anaconda/envs/orca/lib/python3.10/site-packages (from librosa->-r ../requirements.txt (line 6)) (3.0.1)\n",
            "Requirement already satisfied: joblib>=0.14 in /anaconda/envs/orca/lib/python3.10/site-packages (from librosa->-r ../requirements.txt (line 6)) (1.4.2)\n",
            "Requirement already satisfied: decorator>=4.3.0 in /anaconda/envs/orca/lib/python3.10/site-packages (from librosa->-r ../requirements.txt (line 6)) (5.1.1)\n",
            "Requirement already satisfied: numba>=0.51.0 in /anaconda/envs/orca/lib/python3.10/site-packages (from librosa->-r ../requirements.txt (line 6)) (0.60.0)\n",
            "Requirement already satisfied: soundfile>=0.12.1 in /anaconda/envs/orca/lib/python3.10/site-packages (from librosa->-r ../requirements.txt (line 6)) (0.12.1)\n",
            "Requirement already satisfied: pooch>=1.1 in /anaconda/envs/orca/lib/python3.10/site-packages (from librosa->-r ../requirements.txt (line 6)) (1.8.2)\n",
            "Requirement already satisfied: soxr>=0.3.2 in /anaconda/envs/orca/lib/python3.10/site-packages (from librosa->-r ../requirements.txt (line 6)) (0.5.0.post1)\n",
            "Requirement already satisfied: lazy-loader>=0.1 in /anaconda/envs/orca/lib/python3.10/site-packages (from librosa->-r ../requirements.txt (line 6)) (0.4)\n",
            "Requirement already satisfied: msgpack>=1.0 in /anaconda/envs/orca/lib/python3.10/site-packages (from librosa->-r ../requirements.txt (line 6)) (1.1.0)\n",
            "Requirement already satisfied: python-dateutil>=2.8.2 in /anaconda/envs/orca/lib/python3.10/site-packages (from pandas->-r ../requirements.txt (line 8)) (2.9.0.post0)\n",
            "Requirement already satisfied: pytz>=2020.1 in /anaconda/envs/orca/lib/python3.10/site-packages (from pandas->-r ../requirements.txt (line 8)) (2024.2)\n",
            "Requirement already satisfied: tzdata>=2022.7 in /anaconda/envs/orca/lib/python3.10/site-packages (from pandas->-r ../requirements.txt (line 8)) (2024.2)\n",
            "Requirement already satisfied: contourpy>=1.0.1 in /anaconda/envs/orca/lib/python3.10/site-packages (from matplotlib->-r ../requirements.txt (line 10)) (1.3.0)\n",
            "Requirement already satisfied: cycler>=0.10 in /anaconda/envs/orca/lib/python3.10/site-packages (from matplotlib->-r ../requirements.txt (line 10)) (0.12.1)\n",
            "Requirement already satisfied: fonttools>=4.22.0 in /anaconda/envs/orca/lib/python3.10/site-packages (from matplotlib->-r ../requirements.txt (line 10)) (4.54.1)\n",
            "Requirement already satisfied: kiwisolver>=1.0.1 in /anaconda/envs/orca/lib/python3.10/site-packages (from matplotlib->-r ../requirements.txt (line 10)) (1.4.7)\n",
            "Requirement already satisfied: pyparsing>=2.3.1 in /anaconda/envs/orca/lib/python3.10/site-packages (from matplotlib->-r ../requirements.txt (line 10)) (3.2.0)\n",
            "Requirement already satisfied: jedi>=0.16 in /anaconda/envs/orca/lib/python3.10/site-packages (from ipython->-r ../requirements.txt (line 11)) (0.19.1)\n",
            "Requirement already satisfied: matplotlib-inline in /anaconda/envs/orca/lib/python3.10/site-packages (from ipython->-r ../requirements.txt (line 11)) (0.1.7)\n",
            "Requirement already satisfied: prompt-toolkit<3.1.0,>=3.0.41 in /anaconda/envs/orca/lib/python3.10/site-packages (from ipython->-r ../requirements.txt (line 11)) (3.0.48)\n",
            "Requirement already satisfied: pygments>=2.4.0 in /anaconda/envs/orca/lib/python3.10/site-packages (from ipython->-r ../requirements.txt (line 11)) (2.18.0)\n",
            "Requirement already satisfied: stack-data in /anaconda/envs/orca/lib/python3.10/site-packages (from ipython->-r ../requirements.txt (line 11)) (0.6.3)\n",
            "Requirement already satisfied: traitlets>=5.13.0 in /anaconda/envs/orca/lib/python3.10/site-packages (from ipython->-r ../requirements.txt (line 11)) (5.14.3)\n",
            "Requirement already satisfied: exceptiongroup in /anaconda/envs/orca/lib/python3.10/site-packages (from ipython->-r ../requirements.txt (line 11)) (1.2.2)\n",
            "Requirement already satisfied: pexpect>4.3 in /anaconda/envs/orca/lib/python3.10/site-packages (from ipython->-r ../requirements.txt (line 11)) (4.9.0)\n",
            "Requirement already satisfied: comm>=0.1.1 in /anaconda/envs/orca/lib/python3.10/site-packages (from ipykernel->-r ../requirements.txt (line 12)) (0.2.2)\n",
            "Requirement already satisfied: debugpy>=1.6.5 in /anaconda/envs/orca/lib/python3.10/site-packages (from ipykernel->-r ../requirements.txt (line 12)) (1.8.8)\n",
            "Requirement already satisfied: jupyter-client>=6.1.12 in /anaconda/envs/orca/lib/python3.10/site-packages (from ipykernel->-r ../requirements.txt (line 12)) (8.6.3)\n",
            "Requirement already satisfied: jupyter-core!=5.0.*,>=4.12 in /anaconda/envs/orca/lib/python3.10/site-packages (from ipykernel->-r ../requirements.txt (line 12)) (5.7.2)\n",
            "Requirement already satisfied: nest-asyncio in /anaconda/envs/orca/lib/python3.10/site-packages (from ipykernel->-r ../requirements.txt (line 12)) (1.6.0)\n",
            "Requirement already satisfied: psutil in /anaconda/envs/orca/lib/python3.10/site-packages (from ipykernel->-r ../requirements.txt (line 12)) (6.1.0)\n",
            "Requirement already satisfied: pyzmq>=24 in /anaconda/envs/orca/lib/python3.10/site-packages (from ipykernel->-r ../requirements.txt (line 12)) (26.2.0)\n",
            "Requirement already satisfied: tornado>=6.1 in /anaconda/envs/orca/lib/python3.10/site-packages (from ipykernel->-r ../requirements.txt (line 12)) (6.4.1)\n",
            "Requirement already satisfied: spacy-legacy<3.1.0,>=3.0.11 in /anaconda/envs/orca/lib/python3.10/site-packages (from spacy->-r ../requirements.txt (line 14)) (3.0.12)\n",
            "Requirement already satisfied: spacy-loggers<2.0.0,>=1.0.0 in /anaconda/envs/orca/lib/python3.10/site-packages (from spacy->-r ../requirements.txt (line 14)) (1.0.5)\n",
            "Requirement already satisfied: murmurhash<1.1.0,>=0.28.0 in /anaconda/envs/orca/lib/python3.10/site-packages (from spacy->-r ../requirements.txt (line 14)) (1.0.10)\n",
            "Requirement already satisfied: cymem<2.1.0,>=2.0.2 in /anaconda/envs/orca/lib/python3.10/site-packages (from spacy->-r ../requirements.txt (line 14)) (2.0.8)\n",
            "Requirement already satisfied: preshed<3.1.0,>=3.0.2 in /anaconda/envs/orca/lib/python3.10/site-packages (from spacy->-r ../requirements.txt (line 14)) (3.0.9)\n",
            "Requirement already satisfied: thinc<8.4.0,>=8.3.0 in /anaconda/envs/orca/lib/python3.10/site-packages (from spacy->-r ../requirements.txt (line 14)) (8.3.4)\n",
            "Requirement already satisfied: wasabi<1.2.0,>=0.9.1 in /anaconda/envs/orca/lib/python3.10/site-packages (from spacy->-r ../requirements.txt (line 14)) (1.1.3)\n",
            "Requirement already satisfied: srsly<3.0.0,>=2.4.3 in /anaconda/envs/orca/lib/python3.10/site-packages (from spacy->-r ../requirements.txt (line 14)) (2.4.8)\n",
            "Requirement already satisfied: catalogue<2.1.0,>=2.0.6 in /anaconda/envs/orca/lib/python3.10/site-packages (from spacy->-r ../requirements.txt (line 14)) (2.0.10)\n",
            "Requirement already satisfied: weasel<0.5.0,>=0.1.0 in /anaconda/envs/orca/lib/python3.10/site-packages (from spacy->-r ../requirements.txt (line 14)) (0.4.1)\n",
            "Requirement already satisfied: typer<1.0.0,>=0.3.0 in /anaconda/envs/orca/lib/python3.10/site-packages (from spacy->-r ../requirements.txt (line 14)) (0.13.0)\n",
            "Requirement already satisfied: tqdm<5.0.0,>=4.38.0 in /anaconda/envs/orca/lib/python3.10/site-packages (from spacy->-r ../requirements.txt (line 14)) (4.67.0)\n",
            "Requirement already satisfied: pydantic!=1.8,!=1.8.1,<3.0.0,>=1.7.4 in /anaconda/envs/orca/lib/python3.10/site-packages (from spacy->-r ../requirements.txt (line 14)) (2.9.2)\n",
            "Requirement already satisfied: setuptools in /anaconda/envs/orca/lib/python3.10/site-packages (from spacy->-r ../requirements.txt (line 14)) (75.1.0)\n",
            "Requirement already satisfied: langcodes<4.0.0,>=3.2.0 in /anaconda/envs/orca/lib/python3.10/site-packages (from spacy->-r ../requirements.txt (line 14)) (3.4.1)\n",
            "Requirement already satisfied: colorednoise<2,>=1.1.1 in /anaconda/envs/orca/lib/python3.10/site-packages (from fastaudio==0.0.post0.dev192+g045a276->-r ../requirements.txt (line 15)) (1.1.1)\n",
            "Requirement already satisfied: six>=1.11.0 in /anaconda/envs/orca/lib/python3.10/site-packages (from azure-core>=1.30.0->azure-storage-blob->-r ../requirements.txt (line 1)) (1.16.0)\n",
            "Requirement already satisfied: cffi>=1.12 in /anaconda/envs/orca/lib/python3.10/site-packages (from cryptography>=2.1.4->azure-storage-blob->-r ../requirements.txt (line 1)) (1.17.1)\n",
            "Requirement already satisfied: parso<0.9.0,>=0.8.3 in /anaconda/envs/orca/lib/python3.10/site-packages (from jedi>=0.16->ipython->-r ../requirements.txt (line 11)) (0.8.4)\n",
            "Requirement already satisfied: platformdirs>=2.5 in /anaconda/envs/orca/lib/python3.10/site-packages (from jupyter-core!=5.0.*,>=4.12->ipykernel->-r ../requirements.txt (line 12)) (4.3.6)\n",
            "Requirement already satisfied: language-data>=1.2 in /anaconda/envs/orca/lib/python3.10/site-packages (from langcodes<4.0.0,>=3.2.0->spacy->-r ../requirements.txt (line 14)) (1.2.0)\n",
            "Collecting PyJWT<3,>=1.0.0 (from PyJWT[crypto]<3,>=1.0.0->msal>=1.30.0->azure-identity->-r ../requirements.txt (line 2))\n",
            "  Downloading PyJWT-2.10.1-py3-none-any.whl.metadata (4.0 kB)\n",
            "Collecting portalocker<3,>=1.4 (from msal-extensions>=1.2.0->azure-identity->-r ../requirements.txt (line 2))\n",
            "  Downloading portalocker-2.10.1-py3-none-any.whl.metadata (8.5 kB)\n",
            "Requirement already satisfied: llvmlite<0.44,>=0.43.0dev0 in /anaconda/envs/orca/lib/python3.10/site-packages (from numba>=0.51.0->librosa->-r ../requirements.txt (line 6)) (0.43.0)\n",
            "Requirement already satisfied: ptyprocess>=0.5 in /anaconda/envs/orca/lib/python3.10/site-packages (from pexpect>4.3->ipython->-r ../requirements.txt (line 11)) (0.7.0)\n",
            "Requirement already satisfied: wcwidth in /anaconda/envs/orca/lib/python3.10/site-packages (from prompt-toolkit<3.1.0,>=3.0.41->ipython->-r ../requirements.txt (line 11)) (0.2.13)\n",
            "Requirement already satisfied: annotated-types>=0.6.0 in /anaconda/envs/orca/lib/python3.10/site-packages (from pydantic!=1.8,!=1.8.1,<3.0.0,>=1.7.4->spacy->-r ../requirements.txt (line 14)) (0.7.0)\n",
            "Requirement already satisfied: pydantic-core==2.23.4 in /anaconda/envs/orca/lib/python3.10/site-packages (from pydantic!=1.8,!=1.8.1,<3.0.0,>=1.7.4->spacy->-r ../requirements.txt (line 14)) (2.23.4)\n",
            "Requirement already satisfied: charset-normalizer<4,>=2 in /anaconda/envs/orca/lib/python3.10/site-packages (from requests->fastai->-r ../requirements.txt (line 5)) (3.3.2)\n",
            "Requirement already satisfied: idna<4,>=2.5 in /anaconda/envs/orca/lib/python3.10/site-packages (from requests->fastai->-r ../requirements.txt (line 5)) (3.7)\n",
            "Requirement already satisfied: urllib3<3,>=1.21.1 in /anaconda/envs/orca/lib/python3.10/site-packages (from requests->fastai->-r ../requirements.txt (line 5)) (2.2.3)\n",
            "Requirement already satisfied: certifi>=2017.4.17 in /anaconda/envs/orca/lib/python3.10/site-packages (from requests->fastai->-r ../requirements.txt (line 5)) (2024.8.30)\n",
            "Requirement already satisfied: threadpoolctl>=3.1.0 in /anaconda/envs/orca/lib/python3.10/site-packages (from scikit-learn->fastai->-r ../requirements.txt (line 5)) (3.5.0)\n",
            "Requirement already satisfied: blis<1.3.0,>=1.2.0 in /anaconda/envs/orca/lib/python3.10/site-packages (from thinc<8.4.0,>=8.3.0->spacy->-r ../requirements.txt (line 14)) (1.2.0)\n",
            "Requirement already satisfied: confection<1.0.0,>=0.0.1 in /anaconda/envs/orca/lib/python3.10/site-packages (from thinc<8.4.0,>=8.3.0->spacy->-r ../requirements.txt (line 14)) (0.1.5)\n",
            "Requirement already satisfied: click>=8.0.0 in /anaconda/envs/orca/lib/python3.10/site-packages (from typer<1.0.0,>=0.3.0->spacy->-r ../requirements.txt (line 14)) (8.1.7)\n",
            "Requirement already satisfied: shellingham>=1.3.0 in /anaconda/envs/orca/lib/python3.10/site-packages (from typer<1.0.0,>=0.3.0->spacy->-r ../requirements.txt (line 14)) (1.5.4)\n",
            "Requirement already satisfied: rich>=10.11.0 in /anaconda/envs/orca/lib/python3.10/site-packages (from typer<1.0.0,>=0.3.0->spacy->-r ../requirements.txt (line 14)) (13.9.4)\n",
            "Requirement already satisfied: cloudpathlib<1.0.0,>=0.7.0 in /anaconda/envs/orca/lib/python3.10/site-packages (from weasel<0.5.0,>=0.1.0->spacy->-r ../requirements.txt (line 14)) (0.20.0)\n",
            "Requirement already satisfied: smart-open<8.0.0,>=5.2.1 in /anaconda/envs/orca/lib/python3.10/site-packages (from weasel<0.5.0,>=0.1.0->spacy->-r ../requirements.txt (line 14)) (7.0.5)\n",
            "Requirement already satisfied: MarkupSafe>=2.0 in /anaconda/envs/orca/lib/python3.10/site-packages (from jinja2->torch->-r ../requirements.txt (line 3)) (2.1.3)\n",
            "Requirement already satisfied: executing>=1.2.0 in /anaconda/envs/orca/lib/python3.10/site-packages (from stack-data->ipython->-r ../requirements.txt (line 11)) (2.1.0)\n",
            "Requirement already satisfied: asttokens>=2.1.0 in /anaconda/envs/orca/lib/python3.10/site-packages (from stack-data->ipython->-r ../requirements.txt (line 11)) (2.4.1)\n",
            "Requirement already satisfied: pure-eval in /anaconda/envs/orca/lib/python3.10/site-packages (from stack-data->ipython->-r ../requirements.txt (line 11)) (0.2.3)\n",
            "Requirement already satisfied: pycparser in /anaconda/envs/orca/lib/python3.10/site-packages (from cffi>=1.12->cryptography>=2.1.4->azure-storage-blob->-r ../requirements.txt (line 1)) (2.22)\n",
            "Requirement already satisfied: marisa-trie>=0.7.7 in /anaconda/envs/orca/lib/python3.10/site-packages (from language-data>=1.2->langcodes<4.0.0,>=3.2.0->spacy->-r ../requirements.txt (line 14)) (1.2.1)\n",
            "Requirement already satisfied: markdown-it-py>=2.2.0 in /anaconda/envs/orca/lib/python3.10/site-packages (from rich>=10.11.0->typer<1.0.0,>=0.3.0->spacy->-r ../requirements.txt (line 14)) (3.0.0)\n",
            "Requirement already satisfied: wrapt in /anaconda/envs/orca/lib/python3.10/site-packages (from smart-open<8.0.0,>=5.2.1->weasel<0.5.0,>=0.1.0->spacy->-r ../requirements.txt (line 14)) (1.16.0)\n",
            "Requirement already satisfied: mdurl~=0.1 in /anaconda/envs/orca/lib/python3.10/site-packages (from markdown-it-py>=2.2.0->rich>=10.11.0->typer<1.0.0,>=0.3.0->spacy->-r ../requirements.txt (line 14)) (0.1.2)\n",
            "Downloading azure_storage_blob-12.24.1-py3-none-any.whl (408 kB)\n",
            "Downloading azure_identity-1.19.0-py3-none-any.whl (187 kB)\n",
            "Downloading azure_core-1.32.0-py3-none-any.whl (198 kB)\n",
            "Downloading cryptography-44.0.0-cp39-abi3-manylinux_2_28_x86_64.whl (4.2 MB)\n",
            "\u001b[2K   \u001b[90m━━━━━━━━━━━━━━━━━━━━━━━━━━━━━━━━━━━━━━━━\u001b[0m \u001b[32m4.2/4.2 MB\u001b[0m \u001b[31m29.8 MB/s\u001b[0m eta \u001b[36m0:00:00\u001b[0m\n",
            "\u001b[?25hDownloading isodate-0.7.2-py3-none-any.whl (22 kB)\n",
            "Downloading msal-1.31.1-py3-none-any.whl (113 kB)\n",
            "Downloading msal_extensions-1.2.0-py3-none-any.whl (19 kB)\n",
            "Downloading portalocker-2.10.1-py3-none-any.whl (18 kB)\n",
            "Downloading PyJWT-2.10.1-py3-none-any.whl (22 kB)\n",
            "Installing collected packages: PyJWT, portalocker, isodate, cryptography, azure-core, azure-storage-blob, msal, msal-extensions, azure-identity\n",
            "Successfully installed PyJWT-2.10.1 azure-core-1.32.0 azure-identity-1.19.0 azure-storage-blob-12.24.1 cryptography-44.0.0 isodate-0.7.2 msal-1.31.1 msal-extensions-1.2.0 portalocker-2.10.1\n"
          ]
        }
      ],
      "source": [
        "import sys\n",
        "!{sys.executable} -m pip install -r ../requirements.txt"
      ]
    },
    {
      "cell_type": "markdown",
      "metadata": {
        "ExecuteTime": {
          "end_time": "2020-07-29T23:05:34.797350Z",
          "start_time": "2020-07-29T23:05:34.792218Z"
        },
        "heading_collapsed": true,
        "hidden": true
      },
      "source": [
        "## Importing libraries"
      ]
    },
    {
      "cell_type": "code",
      "execution_count": null,
      "metadata": {
        "ExecuteTime": {
          "end_time": "2020-07-30T23:15:34.625559Z",
          "start_time": "2020-07-30T23:15:34.614442Z"
        },
        "gather": {
          "logged": 1731190479113
        },
        "hidden": true
      },
      "outputs": [],
      "source": [
        "# None"
      ]
    },
    {
      "cell_type": "markdown",
      "metadata": {},
      "source": [
        "# Retrieve and Organize Dataset"
      ]
    },
    {
      "cell_type": "code",
      "execution_count": null,
      "metadata": {},
      "outputs": [],
      "source": [
        "# TODO Put quickstart_data.tar.gz into AWS S3 bucket for easy download\n",
        "\n",
        "# TODO Script up download quickstart_data.tar.gz to local machine\n",
        "# TODO Create appropriate train/val/test folders if they don't yet exist\n",
        "# TODO Unzip package and move files into appropriate train/val/test folders"
      ]
    }
  ],
  "metadata": {
    "kernel_info": {
      "name": "python3"
    },
    "kernelspec": {
      "display_name": "orca",
      "language": "python",
      "name": "python3"
    },
    "language_info": {
      "codemirror_mode": {
        "name": "ipython",
        "version": 3
      },
      "file_extension": ".py",
      "mimetype": "text/x-python",
      "name": "python",
      "nbconvert_exporter": "python",
      "pygments_lexer": "ipython3",
      "version": "3.10.15"
    },
    "microsoft": {
      "host": {
        "AzureML": {
          "notebookHasBeenCompleted": true
        }
      },
      "ms_spell_check": {
        "ms_spell_check_language": "en"
      }
    },
    "nteract": {
      "version": "nteract-front-end@1.0.0"
    },
    "toc": {
      "base_numbering": 1,
      "nav_menu": {},
      "number_sections": true,
      "sideBar": true,
      "skip_h1_title": false,
      "title_cell": "Table of Contents",
      "title_sidebar": "Contents",
      "toc_cell": false,
      "toc_position": {},
      "toc_section_display": true,
      "toc_window_display": false
    }
  },
  "nbformat": 4,
  "nbformat_minor": 2
}
