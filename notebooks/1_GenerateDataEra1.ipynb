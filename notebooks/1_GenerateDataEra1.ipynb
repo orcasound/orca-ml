{
 "cells": [
  {
   "cell_type": "markdown",
   "metadata": {
    "heading_collapsed": true
   },
   "source": [
    "# Generate Data: Era 1\n",
    "\n",
    "## Table of Contents\n",
    "1. Summary\n",
    "2. Pre-Requisite Knowledge\n",
    "3. Setup [Installing Dependencies, Importing Libraries, and Notebook Parameters]\n",
    "4. Retrieve Annotated Detection Metadata\n",
    "5. Download & Splice Clips (.wav)\n",
    "\n",
    "## Summary:\n",
    "We utilize the OrcaHello tool to detect SRKW calls and save these detections for review and annotation by our team of experienced moderators (via the OrcaHello portal).\n",
    "This notebook generates a local dataset of these annotated detections for model training.\n",
    "\n",
    "## Pre-Requisite Knowledge:\n",
    "* The SRKW call detector assigns call confidence score per 1-second intervals, yet the detections are aggregated and annotated (by our moderator team) at 60 second intervals. We use the following terminology to disambiguate \"detection\": the 60-second detection is called a segment and the 1-second detection is called a clip.\n",
    "* Since OrcaHello only allows moderators to annotate segments and not clips, the clip labels must be inferred. In cases of false detections (i.e. false positive), every clip in the segment is known to be false positive. In cases of true detections (i.e. true positive), at least one clip in the segment is known to be true positive. Thus, it's critical to note that true positive labels are noisy; in other words, some of the clips in true positive segments can be false detections.\n",
    "* Era 1 covers all OrcaHello-annotated detections between January 1, 2020 and December 31, 2024.\n",
    "* Era 1 dataset contains many examples of true positive and false positive SRKW calls. It however contains no examples of true negative or false negative SRKW calls. For inclusion of additional true negative examples, consider Era 0 dataset. For inclusion of additional false negative examples, consider searching through segments for undetected calls or searching through stored segments (before or after) given annotated segments."
   ]
  },
  {
   "cell_type": "markdown",
   "metadata": {
    "nteract": {
     "transient": {
      "deleting": false
     }
    }
   },
   "source": [
    "## Installing Dependencies"
   ]
  },
  {
   "cell_type": "code",
   "execution_count": 1,
   "metadata": {},
   "outputs": [
    {
     "name": "stdout",
     "output_type": "stream",
     "text": [
      "Collecting git+https://github.com/kevinbird15/fastaudio.git@fastaudio_refresh (from -r ../requirements.txt (line 13))\n",
      "  Cloning https://github.com/kevinbird15/fastaudio.git (to revision fastaudio_refresh) to /tmp/pip-req-build-8ehevsvf\n",
      "  Running command git clone --filter=blob:none --quiet https://github.com/kevinbird15/fastaudio.git /tmp/pip-req-build-8ehevsvf\n",
      "  Running command git checkout -b fastaudio_refresh --track origin/fastaudio_refresh\n",
      "  Switched to a new branch 'fastaudio_refresh'\n",
      "  branch 'fastaudio_refresh' set up to track 'origin/fastaudio_refresh'.\n",
      "  Resolved https://github.com/kevinbird15/fastaudio.git to commit 045a276d227387c630b6aa1a3eba6fae1f6646c4\n",
      "  Preparing metadata (setup.py) ... \u001b[?25ldone\n",
      "\u001b[?25hRequirement already satisfied: torch in /anaconda/envs/orca/lib/python3.10/site-packages (from -r ../requirements.txt (line 1)) (2.5.1)\n",
      "Requirement already satisfied: torchaudio in /anaconda/envs/orca/lib/python3.10/site-packages (from -r ../requirements.txt (line 2)) (2.5.1)\n",
      "Requirement already satisfied: fastai in /anaconda/envs/orca/lib/python3.10/site-packages (from -r ../requirements.txt (line 3)) (2.7.18)\n",
      "Requirement already satisfied: librosa in /anaconda/envs/orca/lib/python3.10/site-packages (from -r ../requirements.txt (line 4)) (0.10.2.post1)\n",
      "Requirement already satisfied: pydub in /anaconda/envs/orca/lib/python3.10/site-packages (from -r ../requirements.txt (line 5)) (0.25.1)\n",
      "Requirement already satisfied: pandas in /anaconda/envs/orca/lib/python3.10/site-packages (from -r ../requirements.txt (line 6)) (2.2.3)\n",
      "Requirement already satisfied: numpy in /anaconda/envs/orca/lib/python3.10/site-packages (from -r ../requirements.txt (line 7)) (1.26.4)\n",
      "Requirement already satisfied: matplotlib in /anaconda/envs/orca/lib/python3.10/site-packages (from -r ../requirements.txt (line 8)) (3.7.5)\n",
      "Requirement already satisfied: ipython in /anaconda/envs/orca/lib/python3.10/site-packages (from -r ../requirements.txt (line 9)) (8.29.0)\n",
      "Requirement already satisfied: ipykernel in /anaconda/envs/orca/lib/python3.10/site-packages (from -r ../requirements.txt (line 10)) (6.29.5)\n",
      "Requirement already satisfied: seaborn in /anaconda/envs/orca/lib/python3.10/site-packages (from -r ../requirements.txt (line 11)) (0.13.2)\n",
      "Requirement already satisfied: spacy in /anaconda/envs/orca/lib/python3.10/site-packages (from -r ../requirements.txt (line 12)) (3.8.2)\n",
      "Requirement already satisfied: filelock in /anaconda/envs/orca/lib/python3.10/site-packages (from torch->-r ../requirements.txt (line 1)) (3.13.1)\n",
      "Requirement already satisfied: typing-extensions>=4.8.0 in /anaconda/envs/orca/lib/python3.10/site-packages (from torch->-r ../requirements.txt (line 1)) (4.11.0)\n",
      "Requirement already satisfied: networkx in /anaconda/envs/orca/lib/python3.10/site-packages (from torch->-r ../requirements.txt (line 1)) (3.2.1)\n",
      "Requirement already satisfied: jinja2 in /anaconda/envs/orca/lib/python3.10/site-packages (from torch->-r ../requirements.txt (line 1)) (3.1.4)\n",
      "Requirement already satisfied: fsspec in /anaconda/envs/orca/lib/python3.10/site-packages (from torch->-r ../requirements.txt (line 1)) (2024.9.0)\n",
      "Requirement already satisfied: sympy==1.13.1 in /anaconda/envs/orca/lib/python3.10/site-packages (from torch->-r ../requirements.txt (line 1)) (1.13.1)\n",
      "Requirement already satisfied: mpmath<1.4,>=1.1.0 in /anaconda/envs/orca/lib/python3.10/site-packages (from sympy==1.13.1->torch->-r ../requirements.txt (line 1)) (1.3.0)\n",
      "Requirement already satisfied: pip in /anaconda/envs/orca/lib/python3.10/site-packages (from fastai->-r ../requirements.txt (line 3)) (24.2)\n",
      "Requirement already satisfied: packaging in /anaconda/envs/orca/lib/python3.10/site-packages (from fastai->-r ../requirements.txt (line 3)) (24.2)\n",
      "Requirement already satisfied: fastdownload<2,>=0.0.5 in /anaconda/envs/orca/lib/python3.10/site-packages (from fastai->-r ../requirements.txt (line 3)) (0.0.7)\n",
      "Requirement already satisfied: fastcore<1.8,>=1.5.29 in /anaconda/envs/orca/lib/python3.10/site-packages (from fastai->-r ../requirements.txt (line 3)) (1.7.19)\n",
      "Requirement already satisfied: torchvision>=0.11 in /anaconda/envs/orca/lib/python3.10/site-packages (from fastai->-r ../requirements.txt (line 3)) (0.20.1)\n",
      "Requirement already satisfied: requests in /anaconda/envs/orca/lib/python3.10/site-packages (from fastai->-r ../requirements.txt (line 3)) (2.32.3)\n",
      "Requirement already satisfied: pyyaml in /anaconda/envs/orca/lib/python3.10/site-packages (from fastai->-r ../requirements.txt (line 3)) (6.0.2)\n",
      "Requirement already satisfied: fastprogress>=0.2.4 in /anaconda/envs/orca/lib/python3.10/site-packages (from fastai->-r ../requirements.txt (line 3)) (1.0.3)\n",
      "Requirement already satisfied: pillow>=9.0.0 in /anaconda/envs/orca/lib/python3.10/site-packages (from fastai->-r ../requirements.txt (line 3)) (10.4.0)\n",
      "Requirement already satisfied: scikit-learn in /anaconda/envs/orca/lib/python3.10/site-packages (from fastai->-r ../requirements.txt (line 3)) (1.5.2)\n",
      "Requirement already satisfied: scipy in /anaconda/envs/orca/lib/python3.10/site-packages (from fastai->-r ../requirements.txt (line 3)) (1.14.1)\n",
      "Requirement already satisfied: audioread>=2.1.9 in /anaconda/envs/orca/lib/python3.10/site-packages (from librosa->-r ../requirements.txt (line 4)) (3.0.1)\n",
      "Requirement already satisfied: joblib>=0.14 in /anaconda/envs/orca/lib/python3.10/site-packages (from librosa->-r ../requirements.txt (line 4)) (1.4.2)\n",
      "Requirement already satisfied: decorator>=4.3.0 in /anaconda/envs/orca/lib/python3.10/site-packages (from librosa->-r ../requirements.txt (line 4)) (5.1.1)\n",
      "Requirement already satisfied: numba>=0.51.0 in /anaconda/envs/orca/lib/python3.10/site-packages (from librosa->-r ../requirements.txt (line 4)) (0.60.0)\n",
      "Requirement already satisfied: soundfile>=0.12.1 in /anaconda/envs/orca/lib/python3.10/site-packages (from librosa->-r ../requirements.txt (line 4)) (0.12.1)\n",
      "Requirement already satisfied: pooch>=1.1 in /anaconda/envs/orca/lib/python3.10/site-packages (from librosa->-r ../requirements.txt (line 4)) (1.8.2)\n",
      "Requirement already satisfied: soxr>=0.3.2 in /anaconda/envs/orca/lib/python3.10/site-packages (from librosa->-r ../requirements.txt (line 4)) (0.5.0.post1)\n",
      "Requirement already satisfied: lazy-loader>=0.1 in /anaconda/envs/orca/lib/python3.10/site-packages (from librosa->-r ../requirements.txt (line 4)) (0.4)\n",
      "Requirement already satisfied: msgpack>=1.0 in /anaconda/envs/orca/lib/python3.10/site-packages (from librosa->-r ../requirements.txt (line 4)) (1.1.0)\n",
      "Requirement already satisfied: python-dateutil>=2.8.2 in /anaconda/envs/orca/lib/python3.10/site-packages (from pandas->-r ../requirements.txt (line 6)) (2.9.0.post0)\n",
      "Requirement already satisfied: pytz>=2020.1 in /anaconda/envs/orca/lib/python3.10/site-packages (from pandas->-r ../requirements.txt (line 6)) (2024.2)\n",
      "Requirement already satisfied: tzdata>=2022.7 in /anaconda/envs/orca/lib/python3.10/site-packages (from pandas->-r ../requirements.txt (line 6)) (2024.2)\n",
      "Requirement already satisfied: contourpy>=1.0.1 in /anaconda/envs/orca/lib/python3.10/site-packages (from matplotlib->-r ../requirements.txt (line 8)) (1.3.0)\n",
      "Requirement already satisfied: cycler>=0.10 in /anaconda/envs/orca/lib/python3.10/site-packages (from matplotlib->-r ../requirements.txt (line 8)) (0.12.1)\n",
      "Requirement already satisfied: fonttools>=4.22.0 in /anaconda/envs/orca/lib/python3.10/site-packages (from matplotlib->-r ../requirements.txt (line 8)) (4.54.1)\n",
      "Requirement already satisfied: kiwisolver>=1.0.1 in /anaconda/envs/orca/lib/python3.10/site-packages (from matplotlib->-r ../requirements.txt (line 8)) (1.4.7)\n",
      "Requirement already satisfied: pyparsing>=2.3.1 in /anaconda/envs/orca/lib/python3.10/site-packages (from matplotlib->-r ../requirements.txt (line 8)) (3.2.0)\n",
      "Requirement already satisfied: jedi>=0.16 in /anaconda/envs/orca/lib/python3.10/site-packages (from ipython->-r ../requirements.txt (line 9)) (0.19.1)\n",
      "Requirement already satisfied: matplotlib-inline in /anaconda/envs/orca/lib/python3.10/site-packages (from ipython->-r ../requirements.txt (line 9)) (0.1.7)\n",
      "Requirement already satisfied: prompt-toolkit<3.1.0,>=3.0.41 in /anaconda/envs/orca/lib/python3.10/site-packages (from ipython->-r ../requirements.txt (line 9)) (3.0.48)\n",
      "Requirement already satisfied: pygments>=2.4.0 in /anaconda/envs/orca/lib/python3.10/site-packages (from ipython->-r ../requirements.txt (line 9)) (2.18.0)\n",
      "Requirement already satisfied: stack-data in /anaconda/envs/orca/lib/python3.10/site-packages (from ipython->-r ../requirements.txt (line 9)) (0.6.3)\n",
      "Requirement already satisfied: traitlets>=5.13.0 in /anaconda/envs/orca/lib/python3.10/site-packages (from ipython->-r ../requirements.txt (line 9)) (5.14.3)\n",
      "Requirement already satisfied: exceptiongroup in /anaconda/envs/orca/lib/python3.10/site-packages (from ipython->-r ../requirements.txt (line 9)) (1.2.2)\n",
      "Requirement already satisfied: pexpect>4.3 in /anaconda/envs/orca/lib/python3.10/site-packages (from ipython->-r ../requirements.txt (line 9)) (4.9.0)\n",
      "Requirement already satisfied: comm>=0.1.1 in /anaconda/envs/orca/lib/python3.10/site-packages (from ipykernel->-r ../requirements.txt (line 10)) (0.2.2)\n",
      "Requirement already satisfied: debugpy>=1.6.5 in /anaconda/envs/orca/lib/python3.10/site-packages (from ipykernel->-r ../requirements.txt (line 10)) (1.8.8)\n",
      "Requirement already satisfied: jupyter-client>=6.1.12 in /anaconda/envs/orca/lib/python3.10/site-packages (from ipykernel->-r ../requirements.txt (line 10)) (8.6.3)\n",
      "Requirement already satisfied: jupyter-core!=5.0.*,>=4.12 in /anaconda/envs/orca/lib/python3.10/site-packages (from ipykernel->-r ../requirements.txt (line 10)) (5.7.2)\n",
      "Requirement already satisfied: nest-asyncio in /anaconda/envs/orca/lib/python3.10/site-packages (from ipykernel->-r ../requirements.txt (line 10)) (1.6.0)\n",
      "Requirement already satisfied: psutil in /anaconda/envs/orca/lib/python3.10/site-packages (from ipykernel->-r ../requirements.txt (line 10)) (6.1.0)\n",
      "Requirement already satisfied: pyzmq>=24 in /anaconda/envs/orca/lib/python3.10/site-packages (from ipykernel->-r ../requirements.txt (line 10)) (26.2.0)\n",
      "Requirement already satisfied: tornado>=6.1 in /anaconda/envs/orca/lib/python3.10/site-packages (from ipykernel->-r ../requirements.txt (line 10)) (6.4.1)\n",
      "Requirement already satisfied: spacy-legacy<3.1.0,>=3.0.11 in /anaconda/envs/orca/lib/python3.10/site-packages (from spacy->-r ../requirements.txt (line 12)) (3.0.12)\n",
      "Requirement already satisfied: spacy-loggers<2.0.0,>=1.0.0 in /anaconda/envs/orca/lib/python3.10/site-packages (from spacy->-r ../requirements.txt (line 12)) (1.0.5)\n",
      "Requirement already satisfied: murmurhash<1.1.0,>=0.28.0 in /anaconda/envs/orca/lib/python3.10/site-packages (from spacy->-r ../requirements.txt (line 12)) (1.0.10)\n",
      "Requirement already satisfied: cymem<2.1.0,>=2.0.2 in /anaconda/envs/orca/lib/python3.10/site-packages (from spacy->-r ../requirements.txt (line 12)) (2.0.8)\n",
      "Requirement already satisfied: preshed<3.1.0,>=3.0.2 in /anaconda/envs/orca/lib/python3.10/site-packages (from spacy->-r ../requirements.txt (line 12)) (3.0.9)\n",
      "Requirement already satisfied: thinc<8.4.0,>=8.3.0 in /anaconda/envs/orca/lib/python3.10/site-packages (from spacy->-r ../requirements.txt (line 12)) (8.3.4)\n",
      "Requirement already satisfied: wasabi<1.2.0,>=0.9.1 in /anaconda/envs/orca/lib/python3.10/site-packages (from spacy->-r ../requirements.txt (line 12)) (1.1.3)\n",
      "Requirement already satisfied: srsly<3.0.0,>=2.4.3 in /anaconda/envs/orca/lib/python3.10/site-packages (from spacy->-r ../requirements.txt (line 12)) (2.4.8)\n",
      "Requirement already satisfied: catalogue<2.1.0,>=2.0.6 in /anaconda/envs/orca/lib/python3.10/site-packages (from spacy->-r ../requirements.txt (line 12)) (2.0.10)\n",
      "Requirement already satisfied: weasel<0.5.0,>=0.1.0 in /anaconda/envs/orca/lib/python3.10/site-packages (from spacy->-r ../requirements.txt (line 12)) (0.4.1)\n",
      "Requirement already satisfied: typer<1.0.0,>=0.3.0 in /anaconda/envs/orca/lib/python3.10/site-packages (from spacy->-r ../requirements.txt (line 12)) (0.13.0)\n",
      "Requirement already satisfied: tqdm<5.0.0,>=4.38.0 in /anaconda/envs/orca/lib/python3.10/site-packages (from spacy->-r ../requirements.txt (line 12)) (4.67.0)\n",
      "Requirement already satisfied: pydantic!=1.8,!=1.8.1,<3.0.0,>=1.7.4 in /anaconda/envs/orca/lib/python3.10/site-packages (from spacy->-r ../requirements.txt (line 12)) (2.9.2)\n",
      "Requirement already satisfied: setuptools in /anaconda/envs/orca/lib/python3.10/site-packages (from spacy->-r ../requirements.txt (line 12)) (75.1.0)\n",
      "Requirement already satisfied: langcodes<4.0.0,>=3.2.0 in /anaconda/envs/orca/lib/python3.10/site-packages (from spacy->-r ../requirements.txt (line 12)) (3.4.1)\n",
      "Requirement already satisfied: colorednoise<2,>=1.1.1 in /anaconda/envs/orca/lib/python3.10/site-packages (from fastaudio==0.0.post0.dev192+g045a276->-r ../requirements.txt (line 13)) (1.1.1)\n",
      "Requirement already satisfied: parso<0.9.0,>=0.8.3 in /anaconda/envs/orca/lib/python3.10/site-packages (from jedi>=0.16->ipython->-r ../requirements.txt (line 9)) (0.8.4)\n",
      "Requirement already satisfied: platformdirs>=2.5 in /anaconda/envs/orca/lib/python3.10/site-packages (from jupyter-core!=5.0.*,>=4.12->ipykernel->-r ../requirements.txt (line 10)) (4.3.6)\n",
      "Requirement already satisfied: language-data>=1.2 in /anaconda/envs/orca/lib/python3.10/site-packages (from langcodes<4.0.0,>=3.2.0->spacy->-r ../requirements.txt (line 12)) (1.2.0)\n",
      "Requirement already satisfied: llvmlite<0.44,>=0.43.0dev0 in /anaconda/envs/orca/lib/python3.10/site-packages (from numba>=0.51.0->librosa->-r ../requirements.txt (line 4)) (0.43.0)\n",
      "Requirement already satisfied: ptyprocess>=0.5 in /anaconda/envs/orca/lib/python3.10/site-packages (from pexpect>4.3->ipython->-r ../requirements.txt (line 9)) (0.7.0)\n",
      "Requirement already satisfied: wcwidth in /anaconda/envs/orca/lib/python3.10/site-packages (from prompt-toolkit<3.1.0,>=3.0.41->ipython->-r ../requirements.txt (line 9)) (0.2.13)\n",
      "Requirement already satisfied: annotated-types>=0.6.0 in /anaconda/envs/orca/lib/python3.10/site-packages (from pydantic!=1.8,!=1.8.1,<3.0.0,>=1.7.4->spacy->-r ../requirements.txt (line 12)) (0.7.0)\n",
      "Requirement already satisfied: pydantic-core==2.23.4 in /anaconda/envs/orca/lib/python3.10/site-packages (from pydantic!=1.8,!=1.8.1,<3.0.0,>=1.7.4->spacy->-r ../requirements.txt (line 12)) (2.23.4)\n",
      "Requirement already satisfied: six>=1.5 in /anaconda/envs/orca/lib/python3.10/site-packages (from python-dateutil>=2.8.2->pandas->-r ../requirements.txt (line 6)) (1.16.0)\n",
      "Requirement already satisfied: charset-normalizer<4,>=2 in /anaconda/envs/orca/lib/python3.10/site-packages (from requests->fastai->-r ../requirements.txt (line 3)) (3.3.2)\n",
      "Requirement already satisfied: idna<4,>=2.5 in /anaconda/envs/orca/lib/python3.10/site-packages (from requests->fastai->-r ../requirements.txt (line 3)) (3.7)\n",
      "Requirement already satisfied: urllib3<3,>=1.21.1 in /anaconda/envs/orca/lib/python3.10/site-packages (from requests->fastai->-r ../requirements.txt (line 3)) (2.2.3)\n",
      "Requirement already satisfied: certifi>=2017.4.17 in /anaconda/envs/orca/lib/python3.10/site-packages (from requests->fastai->-r ../requirements.txt (line 3)) (2024.8.30)\n",
      "Requirement already satisfied: threadpoolctl>=3.1.0 in /anaconda/envs/orca/lib/python3.10/site-packages (from scikit-learn->fastai->-r ../requirements.txt (line 3)) (3.5.0)\n",
      "Requirement already satisfied: cffi>=1.0 in /anaconda/envs/orca/lib/python3.10/site-packages (from soundfile>=0.12.1->librosa->-r ../requirements.txt (line 4)) (1.17.1)\n",
      "Requirement already satisfied: blis<1.3.0,>=1.2.0 in /anaconda/envs/orca/lib/python3.10/site-packages (from thinc<8.4.0,>=8.3.0->spacy->-r ../requirements.txt (line 12)) (1.2.0)\n",
      "Requirement already satisfied: confection<1.0.0,>=0.0.1 in /anaconda/envs/orca/lib/python3.10/site-packages (from thinc<8.4.0,>=8.3.0->spacy->-r ../requirements.txt (line 12)) (0.1.5)\n",
      "Requirement already satisfied: click>=8.0.0 in /anaconda/envs/orca/lib/python3.10/site-packages (from typer<1.0.0,>=0.3.0->spacy->-r ../requirements.txt (line 12)) (8.1.7)\n",
      "Requirement already satisfied: shellingham>=1.3.0 in /anaconda/envs/orca/lib/python3.10/site-packages (from typer<1.0.0,>=0.3.0->spacy->-r ../requirements.txt (line 12)) (1.5.4)\n",
      "Requirement already satisfied: rich>=10.11.0 in /anaconda/envs/orca/lib/python3.10/site-packages (from typer<1.0.0,>=0.3.0->spacy->-r ../requirements.txt (line 12)) (13.9.4)\n",
      "Requirement already satisfied: cloudpathlib<1.0.0,>=0.7.0 in /anaconda/envs/orca/lib/python3.10/site-packages (from weasel<0.5.0,>=0.1.0->spacy->-r ../requirements.txt (line 12)) (0.20.0)\n",
      "Requirement already satisfied: smart-open<8.0.0,>=5.2.1 in /anaconda/envs/orca/lib/python3.10/site-packages (from weasel<0.5.0,>=0.1.0->spacy->-r ../requirements.txt (line 12)) (7.0.5)\n",
      "Requirement already satisfied: MarkupSafe>=2.0 in /anaconda/envs/orca/lib/python3.10/site-packages (from jinja2->torch->-r ../requirements.txt (line 1)) (2.1.3)\n",
      "Requirement already satisfied: executing>=1.2.0 in /anaconda/envs/orca/lib/python3.10/site-packages (from stack-data->ipython->-r ../requirements.txt (line 9)) (2.1.0)\n",
      "Requirement already satisfied: asttokens>=2.1.0 in /anaconda/envs/orca/lib/python3.10/site-packages (from stack-data->ipython->-r ../requirements.txt (line 9)) (2.4.1)\n",
      "Requirement already satisfied: pure-eval in /anaconda/envs/orca/lib/python3.10/site-packages (from stack-data->ipython->-r ../requirements.txt (line 9)) (0.2.3)\n",
      "Requirement already satisfied: pycparser in /anaconda/envs/orca/lib/python3.10/site-packages (from cffi>=1.0->soundfile>=0.12.1->librosa->-r ../requirements.txt (line 4)) (2.22)\n",
      "Requirement already satisfied: marisa-trie>=0.7.7 in /anaconda/envs/orca/lib/python3.10/site-packages (from language-data>=1.2->langcodes<4.0.0,>=3.2.0->spacy->-r ../requirements.txt (line 12)) (1.2.1)\n",
      "Requirement already satisfied: markdown-it-py>=2.2.0 in /anaconda/envs/orca/lib/python3.10/site-packages (from rich>=10.11.0->typer<1.0.0,>=0.3.0->spacy->-r ../requirements.txt (line 12)) (3.0.0)\n",
      "Requirement already satisfied: wrapt in /anaconda/envs/orca/lib/python3.10/site-packages (from smart-open<8.0.0,>=5.2.1->weasel<0.5.0,>=0.1.0->spacy->-r ../requirements.txt (line 12)) (1.16.0)\n",
      "Requirement already satisfied: mdurl~=0.1 in /anaconda/envs/orca/lib/python3.10/site-packages (from markdown-it-py>=2.2.0->rich>=10.11.0->typer<1.0.0,>=0.3.0->spacy->-r ../requirements.txt (line 12)) (0.1.2)\n"
     ]
    }
   ],
   "source": [
    "import sys\n",
    "!{sys.executable} -m pip install -r ../requirements.txt"
   ]
  },
  {
   "cell_type": "markdown",
   "metadata": {
    "ExecuteTime": {
     "end_time": "2020-07-29T23:05:34.797350Z",
     "start_time": "2020-07-29T23:05:34.792218Z"
    },
    "heading_collapsed": true,
    "hidden": true
   },
   "source": [
    "## Importing Libraries"
   ]
  },
  {
   "cell_type": "code",
   "execution_count": 2,
   "metadata": {},
   "outputs": [],
   "source": [
    "from argparse import Namespace\n",
    "from datetime import date\n",
    "import gc\n",
    "import librosa\n",
    "import matplotlib.pyplot as plt\n",
    "import numpy as np\n",
    "import os\n",
    "import pandas as pd\n",
    "from pathlib import Path\n",
    "from pydub import AudioSegment\n",
    "import sys\n",
    "from tqdm.notebook import tqdm_notebook\n",
    "import wave\n",
    "\n",
    "# Ensure that matplotlib-generated charts are shown in notebook\n",
    "%matplotlib inline"
   ]
  },
  {
   "cell_type": "markdown",
   "metadata": {},
   "source": [
    "# Notebook Parameters"
   ]
  },
  {
   "cell_type": "code",
   "execution_count": 3,
   "metadata": {},
   "outputs": [],
   "source": [
    "REPO_ROOT = Path.cwd().parent"
   ]
  },
  {
   "cell_type": "markdown",
   "metadata": {
    "heading_collapsed": true,
    "hidden": true
   },
   "source": [
    "## Import Local Libraries"
   ]
  },
  {
   "cell_type": "code",
   "execution_count": 4,
   "metadata": {},
   "outputs": [],
   "source": [
    "sys.path.append(str(REPO_ROOT))\n",
    "\n",
    "import orca_ml.generate_clip_dataset\n",
    "import orca_ml.retrieve_detection_metadata"
   ]
  },
  {
   "cell_type": "markdown",
   "metadata": {
    "heading_collapsed": true
   },
   "source": [
    "# Retrieve Annotated Detection Metadata"
   ]
  },
  {
   "cell_type": "markdown",
   "metadata": {
    "heading_collapsed": true,
    "hidden": true
   },
   "source": [
    "##  Retrieve Train Set Metadata"
   ]
  },
  {
   "cell_type": "code",
   "execution_count": 12,
   "metadata": {},
   "outputs": [
    {
     "name": "stderr",
     "output_type": "stream",
     "text": [
      "100%|████████████████████████████████████████████████████████████████████████████████████████████████████████████████████████████████████████████████████████████████████████████████████████████████████████████████████████████████████████████████████████████████████████████████████████████████████████████████████████████████████████████████████████████████████████████████████████████████████████████████████████████████████████████████████████████████████████████████████████████████████████████████████████████████████████████████████████████████████████████████████████████████████████████████████████████████████████████████████████████████████████████████████████████████████████████████████████████████████████████████████████████████████████████████████████████████████████████████████████████████████████████████████████████████████████████████████████████████████████████████████████████████████████████████████████████████████████████████████████████████| 100/100 [00:42<00:00,  2.36it/s]\n"
     ]
    }
   ],
   "source": [
    "\n",
    "from importlib import reload\n",
    "reload(orca_ml.retrieve_detection_metadata)\n",
    "import orca_ml.retrieve_detection_metadata\n",
    "\n",
    "arg_metadata_file = REPO_ROOT / \"data/metadata/train/metadata.json\"\n",
    "arg_start_date = date.fromisoformat(\"2020-01-01\")\n",
    "arg_end_date = date.fromisoformat(\"2022-02-28\")\n",
    "arg_max_batch = 100 # MANUALLY VALIDATED MAX NUMBER OF PAGES NEEDED FOR THESE DATES\n",
    "\n",
    "args = Namespace(metadata_file=arg_metadata_file, start_date=arg_start_date, end_date=arg_end_date, max_batch=arg_max_batch)\n",
    "\n",
    "orca_ml.retrieve_detection_metadata.retrieve(args)"
   ]
  },
  {
   "cell_type": "markdown",
   "metadata": {
    "hidden": true
   },
   "source": [
    "## Retrieve Validation Set Metadata"
   ]
  },
  {
   "cell_type": "code",
   "execution_count": null,
   "metadata": {},
   "outputs": [],
   "source": [
    "arg_metadata_file = REPO_ROOT / \"data/metadata/val/metadata.json\"\n",
    "arg_start_date = date.fromisoformat(\"2022-03-01\")\n",
    "arg_end_date = date.fromisoformat(\"2022-12-31\")\n",
    "arg_max_batch = 50 # MANUALLY VALIDATED MAX NUMBER OF PAGES NEEDED FOR THESE DATES\n",
    "\n",
    "args = Namespace(metadata_file=arg_metadata_file, start_date=arg_start_date, end_date=arg_end_date, max_batch=arg_max_batch)\n",
    "\n",
    "orca_ml.retrieve_detection_metadata.retrieve(args)"
   ]
  },
  {
   "cell_type": "markdown",
   "metadata": {},
   "source": [
    "## Retrieve Test Set Metadata"
   ]
  },
  {
   "cell_type": "code",
   "execution_count": null,
   "metadata": {},
   "outputs": [],
   "source": [
    "arg_metadata_file = REPO_ROOT / \"data/metadata/test/metadata.json\"\n",
    "arg_start_date = date.fromisoformat(\"2023-01-01\")\n",
    "arg_end_date = date.fromisoformat(\"2024-12-31\")\n",
    "arg_max_batch = 30 # MANUALLY VALIDATED MAX NUMBER OF PAGES NEEDED FOR THESE DATES\n",
    "\n",
    "args = Namespace(metadata_file=arg_metadata_file, start_date=arg_start_date, end_date=arg_end_date, max_batch=arg_max_batch)\n",
    "\n",
    "orca_ml.retrieve_detection_metadata.retrieve(args)"
   ]
  },
  {
   "cell_type": "markdown",
   "metadata": {
    "hidden": true
   },
   "source": [
    "# Download and Splice Clips (*.wav)"
   ]
  },
  {
   "cell_type": "markdown",
   "metadata": {},
   "source": [
    "## Download and Splice Train Set Clips"
   ]
  },
  {
   "cell_type": "code",
   "execution_count": 5,
   "metadata": {},
   "outputs": [
    {
     "name": "stderr",
     "output_type": "stream",
     "text": [
      "100%|██████████████████████████████████████████████████████████████████████████████████████████████████████████████████████████████████████████████████████████████████████████████████████████████████████████████████████████████████████████████████████████████████████████████████████████████████████████████████████████████████████████████████████████████████████████████████████████████████████████████████████████████████████████████████████████████████████████████████████████████████████████████████████████████████████████████████████████████████████████████████████████████████████████████████████████████████████████████████████████████████████████████████████████████████████████████████████████████████████████████████████████████████████████████████████████████████████████████████████████████████████████████████████████████████████████████████████████████████████████████████████████████████████████████████████████████████████████████████████████████| 4195/4195 [39:05<00:00,  1.79it/s]\n"
     ]
    }
   ],
   "source": [
    "arg_metadata_file = REPO_ROOT / \"data/metadata/train/metadata.json\"\n",
    "arg_clip_folder = REPO_ROOT / \"data/processed/train\"\n",
    "arg_top_k = 60\n",
    "arg_round_name = \"OfficialEra1\"\n",
    "\n",
    "args = Namespace(metadata_file=arg_metadata_file, clip_folder=arg_clip_folder, top_k=arg_top_k, round_name=arg_round_name)\n",
    "\n",
    "orca_ml.generate_clip_dataset.generate(args)"
   ]
  },
  {
   "cell_type": "markdown",
   "metadata": {
    "ExecuteTime": {
     "end_time": "2020-07-30T23:17:34.364321Z",
     "start_time": "2020-07-30T23:17:34.356340Z"
    },
    "hidden": true
   },
   "source": [
    "## Download and Splice Validation Set Clips"
   ]
  },
  {
   "cell_type": "code",
   "execution_count": 7,
   "metadata": {},
   "outputs": [
    {
     "name": "stderr",
     "output_type": "stream",
     "text": [
      "100%|██████████████████████████████████████████████████████████████████████████████████████████████████████████████████████████████████████████████████████████████████████████████████████████████████████████████████████████████████████████████████████████████████████████████████████████████████████████████████████████████████████████████████████████████████████████████████████████████████████████████████████████████████████████████████████████████████████████████████████████████████████████████████████████████████████████████████████████████████████████████████████████████████████████████████████████████████████████████████████████████████████████████████████████████████████████████████████████████████████████████████████████████████████████████████████████████████████████████████████████████████████████████████████████████████████████████████████████████████████████████████████████████████████████████████████████████████████████████████████████████| 1580/1580 [19:29<00:00,  1.35it/s]\n"
     ]
    }
   ],
   "source": [
    "arg_metadata_file = REPO_ROOT / \"data/metadata/val/metadata.json\"\n",
    "arg_clip_folder = REPO_ROOT / \"data/processed/val\"\n",
    "arg_top_k = 60\n",
    "arg_round_name = \"OfficialEra1\"\n",
    "\n",
    "args = Namespace(metadata_file=arg_metadata_file, clip_folder=arg_clip_folder, top_k=arg_top_k, round_name=arg_round_name)\n",
    "\n",
    "orca_ml.generate_clip_dataset.generate(args)"
   ]
  },
  {
   "cell_type": "markdown",
   "metadata": {},
   "source": [
    "## Download and Splice Test Set Clips"
   ]
  },
  {
   "cell_type": "code",
   "execution_count": 8,
   "metadata": {},
   "outputs": [
    {
     "name": "stderr",
     "output_type": "stream",
     "text": [
      "100%|██████████████████████████████████████████████████████████████████████████████████████████████████████████████████████████████████████████████████████████████████████████████████████████████████████████████████████████████████████████████████████████████████████████████████████████████████████████████████████████████████████████████████████████████████████████████████████████████████████████████████████████████████████████████████████████████████████████████████████████████████████████████████████████████████████████████████████████████████████████████████████████████████████████████████████████████████████████████████████████████████████████████████████████████████████████████████████████████████████████████████████████████████████████████████████████████████████████████████████████████████████████████████████████████████████████████████████████████████████████████████████████████████████████████████████████████████████████████████████████████| 1324/1324 [11:04<00:00,  1.99it/s]\n"
     ]
    }
   ],
   "source": [
    "arg_metadata_file = REPO_ROOT / \"data/metadata/test/metadata.json\"\n",
    "arg_clip_folder = REPO_ROOT / \"data/processed/test\"\n",
    "arg_top_k = 60\n",
    "arg_round_name = \"OfficialEra1\"\n",
    "\n",
    "args = Namespace(metadata_file=arg_metadata_file, clip_folder=arg_clip_folder, top_k=arg_top_k, round_name=arg_round_name)\n",
    "\n",
    "orca_ml.generate_clip_dataset.generate(args)"
   ]
  }
 ],
 "metadata": {
  "kernelspec": {
   "display_name": "orca",
   "language": "python",
   "name": "python3"
  },
  "language_info": {
   "codemirror_mode": {
    "name": "ipython",
    "version": 3
   },
   "file_extension": ".py",
   "mimetype": "text/x-python",
   "name": "python",
   "nbconvert_exporter": "python",
   "pygments_lexer": "ipython3",
   "version": "3.10.15"
  }
 },
 "nbformat": 4,
 "nbformat_minor": 2
}
