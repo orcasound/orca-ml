{
 "cells": [
  {
   "cell_type": "code",
   "execution_count": 1,
   "metadata": {
    "ExecuteTime": {
     "end_time": "2020-09-20T00:51:13.690786Z",
     "start_time": "2020-09-20T00:51:13.484123Z"
    }
   },
   "outputs": [],
   "source": [
    "%reload_ext autoreload\n",
    "%autoreload 2\n",
    "%matplotlib inline"
   ]
  },
  {
   "cell_type": "code",
   "execution_count": 3,
   "metadata": {
    "ExecuteTime": {
     "end_time": "2020-09-20T00:51:32.747473Z",
     "start_time": "2020-09-20T00:51:32.719128Z"
    }
   },
   "outputs": [],
   "source": [
    "from inference import FastAIModel\n",
    "modelPath = \"./data/train/mldata/all/models/\"\n",
    "modelName=\"stg2-rn18.pkl\"\n",
    "clipPath = \"../evaluation/wav/OS_7_05_2019_08_24_00_.wav\""
   ]
  },
  {
   "cell_type": "code",
   "execution_count": 4,
   "metadata": {
    "ExecuteTime": {
     "end_time": "2020-09-20T00:51:42.345753Z",
     "start_time": "2020-09-20T00:51:42.177152Z"
    },
    "scrolled": true
   },
   "outputs": [
    {
     "name": "stderr",
     "output_type": "stream",
     "text": [
      "/home/aaagraw/anaconda3/envs/fastai1/lib/python3.8/site-packages/torch/serialization.py:649: SourceChangeWarning: source code of class 'torch.nn.modules.loss.CrossEntropyLoss' has changed. you can retrieve the original source code by accessing the object's source attribute or set `torch.nn.Module.dump_patches = True` and use the patch tool to revert the changes.\n",
      "  warnings.warn(msg, SourceChangeWarning)\n",
      "/home/aaagraw/anaconda3/envs/fastai1/lib/python3.8/site-packages/torch/serialization.py:649: SourceChangeWarning: source code of class 'torch.nn.modules.container.Sequential' has changed. you can retrieve the original source code by accessing the object's source attribute or set `torch.nn.Module.dump_patches = True` and use the patch tool to revert the changes.\n",
      "  warnings.warn(msg, SourceChangeWarning)\n",
      "/home/aaagraw/anaconda3/envs/fastai1/lib/python3.8/site-packages/torch/serialization.py:649: SourceChangeWarning: source code of class 'torch.nn.modules.conv.Conv2d' has changed. you can retrieve the original source code by accessing the object's source attribute or set `torch.nn.Module.dump_patches = True` and use the patch tool to revert the changes.\n",
      "  warnings.warn(msg, SourceChangeWarning)\n",
      "/home/aaagraw/anaconda3/envs/fastai1/lib/python3.8/site-packages/torch/serialization.py:649: SourceChangeWarning: source code of class 'torch.nn.modules.batchnorm.BatchNorm2d' has changed. you can retrieve the original source code by accessing the object's source attribute or set `torch.nn.Module.dump_patches = True` and use the patch tool to revert the changes.\n",
      "  warnings.warn(msg, SourceChangeWarning)\n",
      "/home/aaagraw/anaconda3/envs/fastai1/lib/python3.8/site-packages/torch/serialization.py:649: SourceChangeWarning: source code of class 'torch.nn.modules.activation.ReLU' has changed. you can retrieve the original source code by accessing the object's source attribute or set `torch.nn.Module.dump_patches = True` and use the patch tool to revert the changes.\n",
      "  warnings.warn(msg, SourceChangeWarning)\n",
      "/home/aaagraw/anaconda3/envs/fastai1/lib/python3.8/site-packages/torch/serialization.py:649: SourceChangeWarning: source code of class 'torch.nn.modules.pooling.MaxPool2d' has changed. you can retrieve the original source code by accessing the object's source attribute or set `torch.nn.Module.dump_patches = True` and use the patch tool to revert the changes.\n",
      "  warnings.warn(msg, SourceChangeWarning)\n",
      "/home/aaagraw/anaconda3/envs/fastai1/lib/python3.8/site-packages/torch/serialization.py:649: SourceChangeWarning: source code of class 'torch.nn.modules.pooling.AdaptiveAvgPool2d' has changed. you can retrieve the original source code by accessing the object's source attribute or set `torch.nn.Module.dump_patches = True` and use the patch tool to revert the changes.\n",
      "  warnings.warn(msg, SourceChangeWarning)\n",
      "/home/aaagraw/anaconda3/envs/fastai1/lib/python3.8/site-packages/torch/serialization.py:649: SourceChangeWarning: source code of class 'torch.nn.modules.pooling.AdaptiveMaxPool2d' has changed. you can retrieve the original source code by accessing the object's source attribute or set `torch.nn.Module.dump_patches = True` and use the patch tool to revert the changes.\n",
      "  warnings.warn(msg, SourceChangeWarning)\n",
      "/home/aaagraw/anaconda3/envs/fastai1/lib/python3.8/site-packages/torch/serialization.py:649: SourceChangeWarning: source code of class 'torch.nn.modules.batchnorm.BatchNorm1d' has changed. you can retrieve the original source code by accessing the object's source attribute or set `torch.nn.Module.dump_patches = True` and use the patch tool to revert the changes.\n",
      "  warnings.warn(msg, SourceChangeWarning)\n",
      "/home/aaagraw/anaconda3/envs/fastai1/lib/python3.8/site-packages/torch/serialization.py:649: SourceChangeWarning: source code of class 'torch.nn.modules.dropout.Dropout' has changed. you can retrieve the original source code by accessing the object's source attribute or set `torch.nn.Module.dump_patches = True` and use the patch tool to revert the changes.\n",
      "  warnings.warn(msg, SourceChangeWarning)\n",
      "/home/aaagraw/anaconda3/envs/fastai1/lib/python3.8/site-packages/torch/serialization.py:649: SourceChangeWarning: source code of class 'torch.nn.modules.linear.Linear' has changed. you can retrieve the original source code by accessing the object's source attribute or set `torch.nn.Module.dump_patches = True` and use the patch tool to revert the changes.\n",
      "  warnings.warn(msg, SourceChangeWarning)\n"
     ]
    }
   ],
   "source": [
    "whalecall_classification_model = FastAIModel(model_path = modelPath, model_name=modelName)"
   ]
  },
  {
   "cell_type": "code",
   "execution_count": 5,
   "metadata": {
    "ExecuteTime": {
     "end_time": "2020-09-20T00:51:50.671387Z",
     "start_time": "2020-09-20T00:51:44.411521Z"
    }
   },
   "outputs": [
    {
     "name": "stdout",
     "output_type": "stream",
     "text": [
      "Preprocessing: Resampling to 20000\n"
     ]
    },
    {
     "data": {
      "text/html": [
       "\n",
       "    <div>\n",
       "        <style>\n",
       "            /* Turns off some styling */\n",
       "            progress {\n",
       "                /* gets rid of default border in Firefox and Opera. */\n",
       "                border: none;\n",
       "                /* Needs to be in here for Safari polyfill so background images work as expected. */\n",
       "                background-size: auto;\n",
       "            }\n",
       "            .progress-bar-interrupted, .progress-bar-interrupted::-webkit-progress-bar {\n",
       "                background: #F44336;\n",
       "            }\n",
       "        </style>\n",
       "      <progress value='59' class='' max='59' style='width:300px; height:20px; vertical-align: middle;'></progress>\n",
       "      100.00% [59/59 00:00<00:00]\n",
       "    </div>\n",
       "    "
      ],
      "text/plain": [
       "<IPython.core.display.HTML object>"
      ]
     },
     "metadata": {},
     "output_type": "display_data"
    }
   ],
   "source": [
    "prediction_results = whalecall_classification_model.predict(clipPath)"
   ]
  },
  {
   "cell_type": "code",
   "execution_count": 6,
   "metadata": {
    "ExecuteTime": {
     "end_time": "2020-09-20T00:51:50.709992Z",
     "start_time": "2020-09-20T00:51:50.673838Z"
    }
   },
   "outputs": [
    {
     "data": {
      "text/plain": [
       "{'local_predictions': [0,\n",
       "  1,\n",
       "  0,\n",
       "  0,\n",
       "  0,\n",
       "  0,\n",
       "  0,\n",
       "  0,\n",
       "  0,\n",
       "  0,\n",
       "  0,\n",
       "  0,\n",
       "  0,\n",
       "  0,\n",
       "  0,\n",
       "  0,\n",
       "  0,\n",
       "  0,\n",
       "  0,\n",
       "  0,\n",
       "  0,\n",
       "  0,\n",
       "  0,\n",
       "  0,\n",
       "  0,\n",
       "  0,\n",
       "  0,\n",
       "  0,\n",
       "  0,\n",
       "  0,\n",
       "  0,\n",
       "  0,\n",
       "  0,\n",
       "  0,\n",
       "  0,\n",
       "  0,\n",
       "  0,\n",
       "  0,\n",
       "  0,\n",
       "  0,\n",
       "  0,\n",
       "  0,\n",
       "  0,\n",
       "  0,\n",
       "  0,\n",
       "  0,\n",
       "  0,\n",
       "  0,\n",
       "  0,\n",
       "  0,\n",
       "  0,\n",
       "  0,\n",
       "  1,\n",
       "  1,\n",
       "  1,\n",
       "  1,\n",
       "  1,\n",
       "  0,\n",
       "  0,\n",
       "  0],\n",
       " 'local_confidences': [0.1504811942577362,\n",
       "  0.5285290628671646,\n",
       "  0.4624946331605315,\n",
       "  0.017540602013468742,\n",
       "  0.04407097306102514,\n",
       "  0.08013155683875084,\n",
       "  0.060053760185837746,\n",
       "  0.03870251774787903,\n",
       "  0.06970885954797268,\n",
       "  0.07816904783248901,\n",
       "  0.05260476656258106,\n",
       "  0.0702588465064764,\n",
       "  0.08328414335846901,\n",
       "  0.04475533589720726,\n",
       "  0.01818520948290825,\n",
       "  0.02820543386042118,\n",
       "  0.03429048415273428,\n",
       "  0.027630080468952656,\n",
       "  0.038163354620337486,\n",
       "  0.043360015377402306,\n",
       "  0.0944841168820858,\n",
       "  0.141875758767128,\n",
       "  0.08232673443853855,\n",
       "  0.07619059272110462,\n",
       "  0.08133391477167606,\n",
       "  0.03965097852051258,\n",
       "  0.09948215633630753,\n",
       "  0.1767435371875763,\n",
       "  0.1198427826166153,\n",
       "  0.03248575050383806,\n",
       "  0.02812130656093359,\n",
       "  0.05905231274664402,\n",
       "  0.14848687499761581,\n",
       "  0.1250829342752695,\n",
       "  0.04920732043683529,\n",
       "  0.0521456990391016,\n",
       "  0.04538317210972309,\n",
       "  0.04291091300547123,\n",
       "  0.09402751736342907,\n",
       "  0.09399334900081158,\n",
       "  0.052833640947937965,\n",
       "  0.08210131898522377,\n",
       "  0.12769484519958496,\n",
       "  0.10481052845716476,\n",
       "  0.07570120692253113,\n",
       "  0.07249056175351143,\n",
       "  0.040212975814938545,\n",
       "  0.27276220731437206,\n",
       "  0.26015633437782526,\n",
       "  0.020177158527076244,\n",
       "  0.021101190708577633,\n",
       "  0.0606570141389966,\n",
       "  0.5311936214566231,\n",
       "  0.6580847352743149,\n",
       "  0.6760175973176956,\n",
       "  0.9965352714061737,\n",
       "  0.5819259360432625,\n",
       "  0.11210638657212257,\n",
       "  0.2661054693162441,\n",
       "  0.4731919765472412],\n",
       " 'global_predictions': 1,\n",
       " 'global_confidence': 0.6620477040608724}"
      ]
     },
     "execution_count": 6,
     "metadata": {},
     "output_type": "execute_result"
    }
   ],
   "source": [
    "prediction_results"
   ]
  }
 ],
 "metadata": {
  "kernelspec": {
   "display_name": "Python 3",
   "language": "python",
   "name": "python3"
  },
  "toc": {
   "base_numbering": 1,
   "nav_menu": {},
   "number_sections": true,
   "sideBar": true,
   "skip_h1_title": false,
   "title_cell": "Table of Contents",
   "title_sidebar": "Contents",
   "toc_cell": false,
   "toc_position": {},
   "toc_section_display": true,
   "toc_window_display": false
  }
 },
 "nbformat": 4,
 "nbformat_minor": 4
}
